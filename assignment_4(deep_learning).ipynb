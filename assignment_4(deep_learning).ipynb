{
  "nbformat": 4,
  "nbformat_minor": 0,
  "metadata": {
    "colab": {
      "provenance": []
    },
    "kernelspec": {
      "name": "python3",
      "display_name": "Python 3"
    },
    "language_info": {
      "name": "python"
    }
  },
  "cells": [
    {
      "cell_type": "code",
      "execution_count": null,
      "metadata": {
        "id": "rDO7I3V0JC7K"
      },
      "outputs": [],
      "source": [
        "import pandas as pd\n",
        "import numpy as np\n",
        "import matplotlib.pyplot as plt\n",
        "import statistics"
      ]
    },
    {
      "cell_type": "code",
      "source": [
        "df = pd.read_csv(\"/content/assignment_4_dataset1_.csv\")\n",
        "print(df)"
      ],
      "metadata": {
        "colab": {
          "base_uri": "https://localhost:8080/"
        },
        "id": "SVShV7H7J-GO",
        "outputId": "80ce821a-cf9d-490b-bcb9-7e7a3c26f4b6"
      },
      "execution_count": null,
      "outputs": [
        {
          "output_type": "stream",
          "name": "stdout",
          "text": [
            "   x1    y\n",
            "0   5   99\n",
            "1   7   86\n",
            "2   8   87\n",
            "3   2  100\n",
            "4  17   86\n",
            "5   9   87\n",
            "6   4   94\n",
            "7  11   78\n",
            "8  12   77\n",
            "9   6   86\n"
          ]
        }
      ]
    },
    {
      "cell_type": "code",
      "source": [
        "x1 = df.iloc[:, 0]\n",
        "y = df.iloc[:, 1]\n",
        "plt.scatter(x1,y)\n",
        "plt.show()"
      ],
      "metadata": {
        "colab": {
          "base_uri": "https://localhost:8080/",
          "height": 265
        },
        "id": "EYutKv7-OfcT",
        "outputId": "7f0aa4c3-148b-4c02-d6d0-fd2f27037f79"
      },
      "execution_count": null,
      "outputs": [
        {
          "output_type": "display_data",
          "data": {
            "text/plain": [
              "<Figure size 432x288 with 1 Axes>"
            ],
            "image/png": "[encoded data removed]"
          },
          "metadata": {
            "needs_background": "light"
          }
        }
      ]
    },
    {
      "cell_type": "code",
      "source": [
        "X_mean= 0\n",
        "Y_mean=0\n",
        "for i in range(len(x1)):\n",
        "  X_mean= X_mean+(x1[i]/len(x1))\n",
        "  Y_mean=Y_mean + (y[i]/len(x1))\n",
        "print(X_mean)\n",
        "print(Y_mean)"
      ],
      "metadata": {
        "colab": {
          "base_uri": "https://localhost:8080/"
        },
        "id": "UWzyuhTi4QZp",
        "outputId": "461ba5cb-992d-47c1-eb10-d4fa5fcc5427"
      },
      "execution_count": null,
      "outputs": [
        {
          "output_type": "stream",
          "name": "stdout",
          "text": [
            "8.100000000000001\n",
            "88.0\n"
          ]
        }
      ]
    },
    {
      "cell_type": "code",
      "source": [
        "r = 0\n",
        "s = 0\n",
        "for i in range(len(x1)):\n",
        "    r =r + (x1[i] - X_mean)*(y[i] - Y_mean)\n",
        "    s =s + (x1[i] - X_mean)**2\n",
        "m = r / s\n",
        "c = Y_mean - m*X_mean\n",
        "\n",
        "print(m,c)\n"
      ],
      "metadata": {
        "colab": {
          "base_uri": "https://localhost:8080/"
        },
        "id": "3I24cOqSNVqU",
        "outputId": "60f34b4c-a16c-443b-cd97-39fbb693d680"
      },
      "execution_count": null,
      "outputs": [
        {
          "output_type": "stream",
          "name": "stdout",
          "text": [
            "-1.249277038750723 98.11914401388086\n"
          ]
        }
      ]
    },
    {
      "cell_type": "code",
      "source": [
        "Y_pred = m*x1 + c\n",
        "\n",
        "plt.scatter(x1, y) # actual\n",
        "#plt.scatter(X, Y_pred, color='red')\n",
        "plt.plot([min(x1), max(x1)], [min(Y_pred), max(Y_pred)], color='red') # predicted\n",
        "plt.show()"
      ],
      "metadata": {
        "colab": {
          "base_uri": "https://localhost:8080/",
          "height": 265
        },
        "id": "8goZk8G9qS_1",
        "outputId": "f9f2626e-f067-4e58-aa49-b5f720e7201e"
      },
      "execution_count": null,
      "outputs": [
        {
          "output_type": "display_data",
          "data": {
            "text/plain": [
              "<Figure size 432x288 with 1 Axes>"
            ],
            "image/png": "[encoded data removed]"
          },
          "metadata": {
            "needs_background": "light"
          }
        }
      ]
    },
    {
      "cell_type": "code",
      "source": [
        "#R squared\n",
        "a=0\n",
        "b=0\n",
        "for i in range(len(x1)):\n",
        "   a=a + ((m*x1[i]+c)-Y_mean)**2\n",
        "   b=b+ (y[i]-Y_mean)**2\n",
        "\n",
        "R_sqr= a/b\n",
        "print(R_sqr)"
      ],
      "metadata": {
        "colab": {
          "base_uri": "https://localhost:8080/"
        },
        "id": "J24Ut0RAuwKD",
        "outputId": "08d9a51f-eff2-4024-98b1-ea30e3d56910"
      },
      "execution_count": null,
      "outputs": [
        {
          "output_type": "stream",
          "name": "stdout",
          "text": [
            "0.5034400006905899\n"
          ]
        }
      ]
    },
    {
      "cell_type": "code",
      "source": [
        "#standard error\n",
        "RR=0\n",
        "\n",
        "for i in range(len(x1)):\n",
        "  RR=RR+((m*x1[i]+c)-y[i])**2\n",
        "\n",
        "NM=(len(x1)-2)\n",
        "Standard_error=(RR/NM)**0.5\n",
        "print(Standard_error)\n",
        "\n",
        "\n",
        "\n"
      ],
      "metadata": {
        "colab": {
          "base_uri": "https://localhost:8080/"
        },
        "id": "RvN_i3dU2w2s",
        "outputId": "035ea798-a9fa-42f8-f12e-4fc46649ad7e"
      },
      "execution_count": null,
      "outputs": [
        {
          "output_type": "stream",
          "name": "stdout",
          "text": [
            "5.767973643640415\n"
          ]
        }
      ]
    },
    {
      "cell_type": "code",
      "source": [
        "#Mean square error\n",
        "diff=0\n",
        "\n",
        "for i in range(len(x1)):\n",
        "  diff=diff+(y[i]-(m*x1[i]+c))**2\n",
        "\n",
        "MSE=diff/len(x1)\n",
        "print(MSE) \n"
      ],
      "metadata": {
        "colab": {
          "base_uri": "https://localhost:8080/"
        },
        "id": "FmkKEu8y7AMV",
        "outputId": "24239021-b8b7-4a15-c075-0d7dd2fa2be0"
      },
      "execution_count": null,
      "outputs": [
        {
          "output_type": "stream",
          "name": "stdout",
          "text": [
            "26.61561596298439\n"
          ]
        }
      ]
    }
  ]
}